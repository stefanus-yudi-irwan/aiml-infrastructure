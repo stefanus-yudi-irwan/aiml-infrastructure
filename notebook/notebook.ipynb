{
 "cells": [
  {
   "cell_type": "markdown",
   "metadata": {},
   "source": [
    "# DEVELOPMENT NOTEBOOK\n",
    "---\n",
    "This notebook is for development phase using python"
   ]
  },
  {
   "cell_type": "markdown",
   "metadata": {},
   "source": [
    "## A. MINIO CLIENT\n",
    "----\n",
    "Create class to interact with minio instance"
   ]
  },
  {
   "cell_type": "code",
   "execution_count": 6,
   "metadata": {},
   "outputs": [
    {
     "name": "stdout",
     "output_type": "stream",
     "text": [
      "{'MINIO': {'ACCESS_KEY': 'BQZB2j3nbhPRMeFniKYp', 'SECRET_KEY': 'YDJxEDxZxf8ZdKLaPMImXmDSZoN4kTAv3KynipY8', 'MINIO_URL': 'host.docker.internal:9000', 'MINIO_TLS': True}, 'POSTGRES': {'USER': 'postgres-mlops', 'PASSWORD': 'postgres-123', 'HOST': 'localhost', 'PORT': 5433, 'DATABASE': 'mlops', 'MLFLOW_DATABASE': 'mlflow_backend'}}\n"
     ]
    }
   ],
   "source": [
    "from loguru import logger\n",
    "from minio import Minio\n",
    "from minio.error import S3Error\n",
    "import urllib3\n",
    "\n",
    "urllib3.disable_warnings()\n",
    "\n",
    "class MinioClient():\n",
    "    \"\"\"Class to interact with minio\n",
    "    \"\"\"\n",
    "    def __init__(self,\n",
    "                 config: dict) -> None:\n",
    "        \"\"\"Initialize class.\n",
    "        Args:\n",
    "            config (dict): minio configuration\n",
    "        \"\"\"\n",
    "        logger.info(\"INITIALIZING MINIO CLASS\")\n",
    "        self.config = config\n",
    "        self.client = Minio(\n",
    "            endpoint = self.config['URL'],\n",
    "            access_key = self.config['ACCESS_KEY'],\n",
    "            secret_key = self.config['SECRET_KEY'],\n",
    "            secure = self.config['TLS'],\n",
    "            cert_check = (not self.config['TLS']))\n",
    "        \n",
    "    def _error(self, function_name: str, message: str, e: Exception) -> None:\n",
    "        \"\"\"error wrapper function\n",
    "        Args:\n",
    "            function (str): function name\n",
    "        \"\"\"\n",
    "        logger.error(f\"AN ERROR OCCURED IN FUNCTION: {function_name}; MESSAGE: {message}; EXCEPTION: {e}\")\n",
    "        return None\n",
    "\n",
    "    def check_connection(self) -> bool:\n",
    "        \"\"\"Check connection to minio server.\n",
    "        Returns:\n",
    "            bool: status of the connection\n",
    "        \"\"\"\n",
    "        try:\n",
    "            self.client.list_buckets()\n",
    "            logger.info(\"Connection to minio server is succesful\")\n",
    "            return True\n",
    "        except S3Error as e:\n",
    "            self._error(\"check_connection\",\"CONNECTION TO MINIO SERVER FAILED\",e)\n",
    "            return False\n",
    "    \n",
    "    def create_bucket(self, bucket_name: str) -> None:\n",
    "        \"\"\"Create bucket inside Minio.\n",
    "        Args:\n",
    "            bucket_name (str): minio bucket name\n",
    "        \"\"\"\n",
    "        try:\n",
    "            if not self.client.bucket_exists(bucket_name):\n",
    "                self.client.make_bucket(bucket_name)\n",
    "                logger.success(f\"Bucket '{bucket_name}' created succesfully\")\n",
    "            else:\n",
    "                logger.info(f\"Bucket {bucket_name} already exists\")\n",
    "        except S3Error as e:\n",
    "            self._error(\"create_bucket\",\"CREATING BUCKET FAIL\",e)\n",
    "        \n",
    "    def delete_bucket(self, bucket_name: str) -> None:\n",
    "        \"\"\"Delete bucket inside Minio.\n",
    "        Args:\n",
    "            bucket_name (str): minio bucket name\n",
    "        \"\"\"\n",
    "        try:\n",
    "            if self.client.bucket_exists(bucket_name):\n",
    "                if self.client.remove_bucket(bucket_name):\n",
    "                    logger.success(f\"Bucket {bucket_name} deleted\")\n",
    "            else:\n",
    "                logger.info(f\"Bucket {bucket_name} does not exists\")\n",
    "        except S3Error as e:\n",
    "            self._error(\"delete_bucket\",\"BUCKET DELETION FAILED\",e)\n",
    "\n",
    "    def upload_file(self, bucket_name: str, file_path: str, object_name: str) -> None:\n",
    "        \"\"\"Upload file to a bucket.\n",
    "        Args:\n",
    "            bucket_name (str): minio bucket name\n",
    "            file_path (str): local file path\n",
    "            object_name (str): object name in minio bucket\n",
    "        \"\"\"\n",
    "        try:\n",
    "            self.client.fput_object(bucket_name, object_name, file_path)\n",
    "            logger.success(f\"File '{file_path}' uploaded as '{object_name}' to bucket '{bucket_name}'\")\n",
    "        except S3Error as e:\n",
    "            self._error(\"upload_file\", \"FAILED TO UPLOAD FILE\",e)\n",
    "    \n",
    "    def download_file(self, bucket_name: str, file_path: str, object_name: str) -> None:\n",
    "        \"\"\"Download a file from a bucket.\n",
    "        Args:\n",
    "            bucket_name (str): minio bucket name\n",
    "            file_path (str): local file path\n",
    "            object_name (str): object name in minio bucket\n",
    "        \"\"\"\n",
    "        try:\n",
    "            self.client.fget_object(bucket_name, object_name, file_path)\n",
    "            logger.success(f\"File '{object_name}' downloaded to '{file_path}'\")\n",
    "        except S3Error as e:\n",
    "            self._error(\"download_file\",\"FAILED TO DOWNLOAD FILE\",e)\n",
    "    \n",
    "    def list_files(self, bucket_name: str):\n",
    "        \"\"\"List all files in a bucket.\n",
    "        Args:\n",
    "            bucket_name (str): minio bucket name\n",
    "        \"\"\"\n",
    "        try:\n",
    "            objects = self.client.list_objects(bucket_name)\n",
    "            for obj in objects:\n",
    "                logger.info(f\"Found object: {obj.object_name}\")\n",
    "        except S3Error as e:\n",
    "            self._error(\"list_files\",\"FAILED TO LIST OBJECTS\",e)\n",
    "\n",
    "    def delete_file(self, bucket_name: str, object_name: str):\n",
    "        \"\"\"Delete a file from a bucket.\n",
    "        Args:\n",
    "            bucket_name (str): minio bucket name\n",
    "            object_name (str): object name in minio bucket\n",
    "        \"\"\"\n",
    "        try:\n",
    "            self.client.remove_object(bucket_name, object_name)\n",
    "            logger.success(f\"File '{object_name}' deleted from bucket '{bucket_name}'\")\n",
    "        except S3Error as e:\n",
    "            self._error(\"delete_file\",f\"FAILED TO DELETE FILE {object_name}\",e)\n",
    "\n",
    "    def file_exists(self, bucket_name: str, object_name: str):\n",
    "        \"\"\"Check if file exists in bucket\n",
    "        Args:\n",
    "            bucket_name (str): minio bucket name\n",
    "            object_name (str): object_name in bucket\n",
    "        \"\"\"\n",
    "        try:\n",
    "            self.client.stat_object(bucket_name, object_name)\n",
    "            logger.info(f\"File '{object_name} exists in bucket {bucket_name}\")\n",
    "            return True\n",
    "        except S3Error as e:\n",
    "            if e.code == 'NoSuchKey':\n",
    "                logger.info(f\"File '{object_name} does not exists in bucket '{bucket_name}\")\n",
    "                return False\n",
    "            else:\n",
    "                self._error(\"check_file\",\"ERROR CHECKING FILE EXISTENCE\",e)\n",
    "                return False"
   ]
  },
  {
   "cell_type": "code",
   "execution_count": 7,
   "metadata": {},
   "outputs": [],
   "source": [
    "from loguru import logger\n",
    "from minio import Minio\n",
    "from minio.error import S3Error\n",
    "import urllib3\n",
    "\n",
    "urllib3.disable_warnings()\n",
    "\n",
    "class MinioClient():\n",
    "    \"\"\"Class to interact with minio\n",
    "    \"\"\"\n",
    "    def __init__(self,\n",
    "                 config: dict) -> None:\n",
    "        \"\"\"Initialize class.\n",
    "        Args:\n",
    "            config (dict): minio configuration\n",
    "        \"\"\"\n",
    "        logger.info(\"INITIALIZING MINIO CLASS\")\n",
    "        self.config = config\n",
    "        self.client = Minio(\n",
    "            endpoint = self.config['MINIO_URL'],\n",
    "            access_key = self.config['ACCESS_KEY'],\n",
    "            secret_key = self.config['SECRET_KEY'],\n",
    "            secure = self.config['MINIO_TLS'],\n",
    "            cert_check = (not self.config['MINIO_TLS']))\n",
    "        \n",
    "    def _error(self, function_name: str, message: str, e: Exception) -> None:\n",
    "        \"\"\"error wrapper function\n",
    "        Args:\n",
    "            function (str): function name\n",
    "        \"\"\"\n",
    "        logger.error(f\"AN ERROR OCCURED IN FUNCTION: {function_name}; MESSAGE: {message}; EXCEPTION: {e}\")\n",
    "        return None\n",
    "\n",
    "    def check_connection(self) -> bool:\n",
    "        \"\"\"Check connection to minio server.\n",
    "        Returns:\n",
    "            bool: status of the connection\n",
    "        \"\"\"\n",
    "        try:\n",
    "            self.client.list_buckets()\n",
    "            logger.info(\"Connection to minio server is succesful\")\n",
    "            return True\n",
    "        except S3Error as e:\n",
    "            self._error(\"check_connection\",\"CONNECTION TO MINIO SERVER FAILED\",e)\n",
    "            return False\n",
    "    \n",
    "    def create_bucket(self, bucket_name: str) -> None:\n",
    "        \"\"\"Create bucket inside Minio.\n",
    "        Args:\n",
    "            bucket_name (str): minio bucket name\n",
    "        \"\"\"\n",
    "        try:\n",
    "            if not self.client.bucket_exists(bucket_name):\n",
    "                self.client.make_bucket(bucket_name)\n",
    "                logger.success(f\"Bucket {bucket_name} created succesfully\")\n",
    "            else:\n",
    "                logger.info(f\"Bucket {bucket_name} already exists\")\n",
    "        except S3Error as e:\n",
    "            self._error(\"create_bucket\",\"CREATING BUCKET FAIL\",e)\n",
    "        \n",
    "    def delete_bucket(self, bucket_name: str) -> None:\n",
    "        \"\"\"Delete bucket inside Minio.\n",
    "        Args:\n",
    "            bucket_name (str): minio bucket name\n",
    "        \"\"\"\n",
    "        try:\n",
    "            if self.client.bucket_exists(bucket_name):\n",
    "                if self.client.delete_bucket(bucket_name):\n",
    "                    logger.success(f\"Bucket {bucket_name} deleted\")\n",
    "            else:\n",
    "                logger.info(f\"Bucket {bucket_name} does not exists\")\n",
    "        except S3Error as e:\n",
    "            self._error(\"delete_bucket\",\"BUCKET DELETION FAILED\",e)\n",
    "\n",
    "    def upload_file(self, bucket_name: str, file_path: str, object_name: str) -> None:\n",
    "        \"\"\"Upload file to a bucket.\n",
    "        Args:\n",
    "            bucket_name (str): minio bucket name\n",
    "            file_path (str): local file path\n",
    "            object_name (str): object name in minio bucket\n",
    "        \"\"\"\n",
    "        try:\n",
    "            self.client.fput_object(bucket_name, object_name, file_path)\n",
    "            logger.success(f\"File '{file_path}' uploaded as '{object_name}' to bucket '{bucket_name}'\")\n",
    "        except S3Error as e:\n",
    "            self._error(\"upload_file\", \"FAILED TO UPLOAD FILE\",e)\n",
    "    \n",
    "    def download_file(self, bucket_name: str, file_path: str, object_name: str) -> None:\n",
    "        \"\"\"Download a file from a bucket.\n",
    "        Args:\n",
    "            bucket_name (str): minio bucket name\n",
    "            file_path (str): local file path\n",
    "            object_name (str): object name in minio bucket\n",
    "        \"\"\"\n",
    "        try:\n",
    "            self.client.fget_object(bucket_name, object_name, file_path)\n",
    "            logger.success(f\"File '{object_name}' downloaded to '{file_path}'\")\n",
    "        except S3Error as e:\n",
    "            self._error(\"download_file\",\"FAILED TO DOWNLOAD FILE\",e)\n",
    "    \n",
    "    def list_files(self, bucket_name: str):\n",
    "        \"\"\"List all files in a bucket.\n",
    "        Args:\n",
    "            bucket_name (str): minio bucket name\n",
    "        \"\"\"\n",
    "        try:\n",
    "            objects = self.client.list_objects(bucket_name)\n",
    "            for obj in objects:\n",
    "                logger.info(f\"Found object: {obj.object_name}\")\n",
    "        except S3Error as e:\n",
    "            self._error(\"list_files\",\"FAILED TO LIST OBJECTS\",e)\n",
    "\n",
    "    def delete_file(self, bucket_name: str, object_name: str):\n",
    "        \"\"\"Delete a file from a bucket.\n",
    "        Args:\n",
    "            bucket_name (str): minio bucket name\n",
    "            object_name (str): object name in minio bucket\n",
    "        \"\"\"\n",
    "        try:\n",
    "            self.client.remove_object(bucket_name, object_name)\n",
    "            logger.success(f\"File '{object_name}' deleted from bucket '{bucket_name}'\")\n",
    "        except S3Error as e:\n",
    "            self._error(\"delete_file\",f\"FAILED TO DELETE FILE {object_name}\",e)\n"
   ]
  },
  {
   "cell_type": "code",
   "execution_count": 4,
   "metadata": {},
   "outputs": [
    {
     "name": "stderr",
     "output_type": "stream",
     "text": [
      "2024-11-01 21:34:49.269 | INFO     | __main__:__init__:17 - INITIALIZING MINIO CLASS\n"
     ]
    }
   ],
   "source": [
    "minio = MinioClient(config['MINIO'])"
   ]
  },
  {
   "cell_type": "code",
   "execution_count": 5,
   "metadata": {},
   "outputs": [
    {
     "name": "stderr",
     "output_type": "stream",
     "text": [
      "2024-11-01 21:34:51.933 | INFO     | __main__:check_connection:41 - Connection to minio server is succesful\n"
     ]
    },
    {
     "data": {
      "text/plain": [
       "True"
      ]
     },
     "execution_count": 5,
     "metadata": {},
     "output_type": "execute_result"
    }
   ],
   "source": [
    "minio.check_connection()"
   ]
  },
  {
   "cell_type": "code",
   "execution_count": 9,
   "metadata": {},
   "outputs": [
    {
     "name": "stderr",
     "output_type": "stream",
     "text": [
      "2024-11-01 22:14:21.688 | SUCCESS  | __main__:create_bucket:55 - Bucket aiml-test created succesfully\n"
     ]
    }
   ],
   "source": [
    "minio.create_bucket(\"aiml-test\")"
   ]
  },
  {
   "cell_type": "code",
   "execution_count": 11,
   "metadata": {},
   "outputs": [
    {
     "name": "stderr",
     "output_type": "stream",
     "text": [
      "2024-11-01 22:14:57.714 | SUCCESS  | __main__:upload_file:84 - File '/home/st_yudi/personal-github-repository/aiml-infrastructure/config/config.yaml.example' uploaded as 'config/config.yaml.example' to bucket 'aiml-test'\n"
     ]
    }
   ],
   "source": [
    "minio.upload_file(\"aiml-test\",\"/home/st_yudi/personal-github-repository/aiml-infrastructure/config/config.yaml.example\",\"config/config.yaml.example\")"
   ]
  },
  {
   "cell_type": "markdown",
   "metadata": {},
   "source": [
    "## PYTHON DECORATOR"
   ]
  },
  {
   "cell_type": "code",
   "execution_count": 64,
   "metadata": {},
   "outputs": [],
   "source": [
    "import time\n",
    "from loguru import logger\n",
    "from typing import Callable, List, Optional\n",
    "\n",
    "def timer(func: Callable) -> Callable:\n",
    "    \"\"\"decorator for counting time execution of a \n",
    "       function\n",
    "    Args:\n",
    "        func (Callable):\n",
    "            generic function\n",
    "    Returns:\n",
    "        Callable:\n",
    "            wrapped function\n",
    "    \"\"\"\n",
    "    def wrapper(*args, **kwargs):\n",
    "        start_time = time.time()\n",
    "        result = func(*args, **kwargs)\n",
    "        end_time = time.time()\n",
    "        execution_time = end_time - start_time\n",
    "        logger.info(f\"Execution time: {execution_time} seconds\")\n",
    "        return result\n",
    "    return wrapper\n",
    "\n",
    "def debugger(func: Callable) -> Callable:\n",
    "    \"\"\"decorator for debuging function\n",
    "    Args:\n",
    "        func (Callable):\n",
    "            generic function\n",
    "    Returns:\n",
    "        Callable:\n",
    "            wrapped function\n",
    "    \"\"\"\n",
    "    def wrapper(*args, **kwargs):\n",
    "        logger.info(f\"Calling {func.__name__} with args: {args} kwargs: {kwargs}\")\n",
    "        result = func(*args, **kwargs)\n",
    "        logger.info(f\"{func.__name__} returned: {result}\")\n",
    "        return result\n",
    "    return wrapper\n",
    "\n",
    "def memoize(func: Callable) -> Callable:\n",
    "    \"\"\"decorator to save result of a function\n",
    "    Args:\n",
    "        func (Callable):\n",
    "            generic function\n",
    "    Returns:\n",
    "        Callable:\n",
    "            wrapped function\n",
    "    \"\"\"\n",
    "    cache = {}\n",
    "    def wrapper(*args):\n",
    "        if args in cache:\n",
    "            return cache[args]\n",
    "        else:\n",
    "            result = func(*args)\n",
    "            cache[args] = result\n",
    "            return result\n",
    "    return wrapper\n",
    "\n",
    "def retry(max_attempts: int, delay: int = 1) -> Callable:\n",
    "    \"\"\"decorator for retrying function in case failed\n",
    "    Args:\n",
    "        max_attempts (int):\n",
    "            max_attempts of a generic function\n",
    "        delay (int, optional):\n",
    "            number of second function call delayed. Defaults to 1.\n",
    "        func (Callable):\n",
    "            generic function\n",
    "    Returns:\n",
    "        Callable:\n",
    "            wrapped function\n",
    "    \"\"\"\n",
    "    def decorator(func: Callable) -> Callable:\n",
    "        def wrapper(*args, **kwargs):\n",
    "            attempts = 0\n",
    "            while attempts < max_attempts:\n",
    "                try:\n",
    "                    return func(*args, **kwargs)\n",
    "                except Exception as e:\n",
    "                    attempts += 1\n",
    "                    logger.error(f\"Attempt {attempts} failed: {e}\")\n",
    "                    time.sleep(delay)\n",
    "            logger.error(f\"Function failed after {max_attempts} attempts\")\n",
    "        return wrapper\n",
    "    return decorator\n",
    "\n",
    "def exception_handler(func: Callable) -> Callable:\n",
    "    \"\"\"decorator for handling error\n",
    "    Args:\n",
    "        func (Callable):\n",
    "            generic function\n",
    "    Returns:\n",
    "        Callable:\n",
    "            wrapped function\n",
    "    \"\"\"\n",
    "    def wrapper(*args, **kwargs):\n",
    "        try:\n",
    "            return func(*args, **kwargs)\n",
    "        except Exception as e:\n",
    "            logger.error(f\"An exception occured: {str(e)}\")\n",
    "            raise e\n",
    "    return wrapper"
   ]
  },
  {
   "cell_type": "code",
   "execution_count": 65,
   "metadata": {},
   "outputs": [
    {
     "name": "stderr",
     "output_type": "stream",
     "text": [
      "2024-09-23 19:46:06.847 | ERROR    | __main__:wrapper:99 - An exception occured: division by zero\n"
     ]
    },
    {
     "ename": "ZeroDivisionError",
     "evalue": "division by zero",
     "output_type": "error",
     "traceback": [
      "\u001b[0;31m---------------------------------------------------------------------------\u001b[0m",
      "\u001b[0;31mZeroDivisionError\u001b[0m                         Traceback (most recent call last)",
      "Input \u001b[0;32mIn [65]\u001b[0m, in \u001b[0;36m<cell line: 5>\u001b[0;34m()\u001b[0m\n\u001b[1;32m      3\u001b[0m     result \u001b[38;5;241m=\u001b[39m x \u001b[38;5;241m/\u001b[39m y\n\u001b[1;32m      4\u001b[0m     \u001b[38;5;28;01mreturn\u001b[39;00m result\n\u001b[0;32m----> 5\u001b[0m \u001b[43mdivide\u001b[49m\u001b[43m(\u001b[49m\u001b[38;5;241;43m10\u001b[39;49m\u001b[43m,\u001b[49m\u001b[43m \u001b[49m\u001b[38;5;241;43m0\u001b[39;49m\u001b[43m)\u001b[49m\n",
      "Input \u001b[0;32mIn [64]\u001b[0m, in \u001b[0;36mexception_handler.<locals>.wrapper\u001b[0;34m(*args, **kwargs)\u001b[0m\n\u001b[1;32m     98\u001b[0m \u001b[38;5;28;01mexcept\u001b[39;00m \u001b[38;5;167;01mException\u001b[39;00m \u001b[38;5;28;01mas\u001b[39;00m e:\n\u001b[1;32m     99\u001b[0m     logger\u001b[38;5;241m.\u001b[39merror(\u001b[38;5;124mf\u001b[39m\u001b[38;5;124m\"\u001b[39m\u001b[38;5;124mAn exception occured: \u001b[39m\u001b[38;5;132;01m{\u001b[39;00m\u001b[38;5;28mstr\u001b[39m(e)\u001b[38;5;132;01m}\u001b[39;00m\u001b[38;5;124m\"\u001b[39m)\n\u001b[0;32m--> 100\u001b[0m     \u001b[38;5;28;01mraise\u001b[39;00m e\n",
      "Input \u001b[0;32mIn [64]\u001b[0m, in \u001b[0;36mexception_handler.<locals>.wrapper\u001b[0;34m(*args, **kwargs)\u001b[0m\n\u001b[1;32m     95\u001b[0m \u001b[38;5;28;01mdef\u001b[39;00m \u001b[38;5;21mwrapper\u001b[39m(\u001b[38;5;241m*\u001b[39margs, \u001b[38;5;241m*\u001b[39m\u001b[38;5;241m*\u001b[39mkwargs):\n\u001b[1;32m     96\u001b[0m     \u001b[38;5;28;01mtry\u001b[39;00m:\n\u001b[0;32m---> 97\u001b[0m         \u001b[38;5;28;01mreturn\u001b[39;00m \u001b[43mfunc\u001b[49m\u001b[43m(\u001b[49m\u001b[38;5;241;43m*\u001b[39;49m\u001b[43margs\u001b[49m\u001b[43m,\u001b[49m\u001b[43m \u001b[49m\u001b[38;5;241;43m*\u001b[39;49m\u001b[38;5;241;43m*\u001b[39;49m\u001b[43mkwargs\u001b[49m\u001b[43m)\u001b[49m\n\u001b[1;32m     98\u001b[0m     \u001b[38;5;28;01mexcept\u001b[39;00m \u001b[38;5;167;01mException\u001b[39;00m \u001b[38;5;28;01mas\u001b[39;00m e:\n\u001b[1;32m     99\u001b[0m         logger\u001b[38;5;241m.\u001b[39merror(\u001b[38;5;124mf\u001b[39m\u001b[38;5;124m\"\u001b[39m\u001b[38;5;124mAn exception occured: \u001b[39m\u001b[38;5;132;01m{\u001b[39;00m\u001b[38;5;28mstr\u001b[39m(e)\u001b[38;5;132;01m}\u001b[39;00m\u001b[38;5;124m\"\u001b[39m)\n",
      "Input \u001b[0;32mIn [65]\u001b[0m, in \u001b[0;36mdivide\u001b[0;34m(x, y)\u001b[0m\n\u001b[1;32m      1\u001b[0m \u001b[38;5;129m@exception_handler\u001b[39m\n\u001b[1;32m      2\u001b[0m \u001b[38;5;28;01mdef\u001b[39;00m \u001b[38;5;21mdivide\u001b[39m(x, y):\n\u001b[0;32m----> 3\u001b[0m     result \u001b[38;5;241m=\u001b[39m \u001b[43mx\u001b[49m\u001b[43m \u001b[49m\u001b[38;5;241;43m/\u001b[39;49m\u001b[43m \u001b[49m\u001b[43my\u001b[49m\n\u001b[1;32m      4\u001b[0m     \u001b[38;5;28;01mreturn\u001b[39;00m result\n",
      "\u001b[0;31mZeroDivisionError\u001b[0m: division by zero"
     ]
    }
   ],
   "source": [
    "@exception_handler\n",
    "def divide(x, y):\n",
    "    result = x / y\n",
    "    return result\n",
    "divide(10, 0)  \n",
    "# Output: An exception occurred: division by zero\n",
    "# Retries 3 times with a 2-second delay between attempts"
   ]
  },
  {
   "cell_type": "code",
   "execution_count": 43,
   "metadata": {},
   "outputs": [
    {
     "data": {
      "text/plain": [
       "False"
      ]
     },
     "execution_count": 43,
     "metadata": {},
     "output_type": "execute_result"
    }
   ],
   "source": [
    "s = \"axc\"\n",
    "t = \"ahbgdc\"\n",
    "\n",
    "def isSubsequence(s, t):\n",
    "    \n",
    "    \"\"\"\n",
    "    :type s: str\n",
    "    :type t: str\n",
    "    :rtype: bool\n",
    "    \"\"\"\n",
    "    i, j = 0, 0\n",
    "    while i < len(s) and j < len(t):\n",
    "    # If characters match, move the pointer of s forward\n",
    "        if s[i] == t[j]:\n",
    "            i += 1\n",
    "    # Always move the pointer of t forward\n",
    "        j += 1\n",
    "\n",
    "    # If we have traversed all characters of s, return True\n",
    "    return i == len(s)\n",
    "\n",
    "isSubsequence(s,t)"
   ]
  },
  {
   "cell_type": "code",
   "execution_count": 32,
   "metadata": {},
   "outputs": [
    {
     "data": {
      "text/plain": [
       "True"
      ]
     },
     "execution_count": 32,
     "metadata": {},
     "output_type": "execute_result"
    }
   ],
   "source": []
  }
 ],
 "metadata": {
  "kernelspec": {
   "display_name": ".venv-aiml-infrastructure",
   "language": "python",
   "name": "python3"
  },
  "language_info": {
   "codemirror_mode": {
    "name": "ipython",
    "version": 3
   },
   "file_extension": ".py",
   "mimetype": "text/x-python",
   "name": "python",
   "nbconvert_exporter": "python",
   "pygments_lexer": "ipython3",
   "version": "3.9.12"
  }
 },
 "nbformat": 4,
 "nbformat_minor": 2
}
